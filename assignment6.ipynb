{
 "cells": [
  {
   "cell_type": "code",
   "execution_count": null,
   "metadata": {},
   "outputs": [],
   "source": []
  },
  {
   "cell_type": "code",
   "execution_count": 1,
   "metadata": {},
   "outputs": [
    {
     "name": "stdout",
     "output_type": "stream",
     "text": [
      "SCHOLARSHIP PROGRAMME\n",
      "1. Full Scholarship\n",
      "2. Patial Scholarship\n",
      "3. Exit\n"
     ]
    },
    {
     "name": "stdin",
     "output_type": "stream",
     "text": [
      "Enter the choice:  1\n",
      "Enter First name:  Moses\n",
      "Enter Last name:  Rouline\n"
     ]
    },
    {
     "name": "stdout",
     "output_type": "stream",
     "text": [
      "Fullnames: Moses Rouline\n"
     ]
    },
    {
     "name": "stdin",
     "output_type": "stream",
     "text": [
      "Your Country? \n",
      "Enter A for Africa,or O for Oversees/Diaspora Coutries:  A\n"
     ]
    },
    {
     "name": "stdout",
     "output_type": "stream",
     "text": [
      "You are Eligible to Apply for Scholarships\n"
     ]
    },
    {
     "name": "stdin",
     "output_type": "stream",
     "text": [
      "Your Gender? \n",
      "Enter M for Male,or F for Female:  M\n"
     ]
    },
    {
     "name": "stdout",
     "output_type": "stream",
     "text": [
      "Invalid Option\n"
     ]
    },
    {
     "name": "stdin",
     "output_type": "stream",
     "text": [
      "Student ID No:  80808080\n",
      "Student Telephone No:  0733333333\n",
      "Country:  Kenya\n",
      "City:  Nairobi\n",
      "Enter Mailing Address:  moses@oal.com\n",
      "Please enter the score for Quiz 1:  57\n",
      "Please enter the score for Quiz 2:  63\n",
      "Please enter the score for Quiz 3:  80\n",
      "Please enter the score for Test 1:  94\n",
      "Please enter the score for Test 2:  77\n"
     ]
    },
    {
     "name": "stdout",
     "output_type": "stream",
     "text": [
      "The average is 74.2\n"
     ]
    },
    {
     "name": "stdin",
     "output_type": "stream",
     "text": [
      "Please enter the score point for Zoom Calls:  7\n",
      "Please enter the score points for the Home Work Assignment:  9\n"
     ]
    },
    {
     "name": "stdout",
     "output_type": "stream",
     "text": [
      "Cogratulation! qualified for the scholarship\n"
     ]
    }
   ],
   "source": [
    "import os\n",
    "clear = lambda: os.system(\"cls\")\n",
    "from math import *\n",
    "\n",
    "def full_scholarship():\n",
    "    clear()\n",
    "    first_name = input(\"Enter First name: \")\n",
    "    last_name = input(\"Enter Last name: \")\n",
    "    fullnames = (first_name + \" \" + last_name)\n",
    "    print(\"Fullnames: \" + fullnames)\n",
    "    country=input(\"Your Country? \\nEnter A for Africa,or O for Oversees/Diaspora Coutries: \")\n",
    "    Africa='A'\n",
    "    Other_countries='O'\n",
    "    if country==Africa:\n",
    "        print(\"You are Eligible to Apply for Scholarships\")\n",
    "    else:\n",
    "        print(\"Choose option 2 in the main menu!\")\n",
    "        print()\n",
    "        menu()\n",
    "    \n",
    "    gender=input(\"Your Gender? \\nEnter M for Male,or F for Female: \")\n",
    "    Male='M'\n",
    "    Female='F'\n",
    "    if gender==Male:\n",
    "        pass\n",
    "    if gender==Female:\n",
    "        pass\n",
    "    else:\n",
    "        print(\"Invalid Option\")\n",
    "    \n",
    "    Student_ID=input(\"Student ID No: \")\n",
    "    Phone_No=input(\"Student Telephone No: \")\n",
    "    country=input(\"Country: \")\n",
    "    city=input(\"City: \")\n",
    "    mailing_address=input(\"Enter Mailing Address: \")\n",
    "    \n",
    "    \n",
    "    quiz1 = eval(input(\"Please enter the score for Quiz 1: \"))\n",
    "    quiz2 = eval(input(\"Please enter the score for Quiz 2: \"))\n",
    "    quiz3 = eval(input(\"Please enter the score for Quiz 3: \"))\n",
    "    test1 = eval(input(\"Please enter the score for Test 1: \"))\n",
    "    test2 = eval(input(\"Please enter the score for Test 2: \"))\n",
    "    total= quiz1 + quiz2 + quiz3 + test1 + test2\n",
    "    average=total/5\n",
    "    print(\"The average is\", round(average, 2))\n",
    "    \n",
    "    Zoom_Calls = eval(input(\"Please enter the score point for Zoom Calls: \"))\n",
    "    if Zoom_Calls > 9:\n",
    "        print(\"Invalide number. Chooce 1 to 10 only\")\n",
    "        menu()\n",
    "    \n",
    "    Home_work = eval(input(\"Please enter the score points for the Home Work Assignment: \"))\n",
    "    if Home_work > 10:\n",
    "        print(\"Invalide number. Chooce 1 to 10 only\")\n",
    "        menu()\n",
    "        print(\"Thanks for your Application\")\n",
    "    \n",
    "    if 90<=average<=100:\n",
    "        print(\"Cogratulation! Youqualified for the scholarship\")\n",
    "        return 'A'\n",
    "    elif 80<=average<=89:\n",
    "        print(\"Cogratulation! You qualified for the scholarship\")\n",
    "        return 'B'\n",
    "    elif 70<=average<=79:\n",
    "        print(\"Cogratulation! qualified for the scholarship\")\n",
    "        return 'C'\n",
    "    elif 60<=average<=69:\n",
    "        print(\"Cogratulation! You Qualified for the scholarship\")\n",
    "        return 'D'\n",
    "    elif 1<=average<=59:\n",
    "        print(\"You have NOT Qualified for the scholarship\")\n",
    "        return 'E'\n",
    "    else:\n",
    "        return 'F'\n",
    "        print(\"You DO NOT Qualified for the scholarship\")\n",
    " \n",
    "    input(\"Press enter for menu\")\n",
    "    menu()\n",
    "    \n",
    "def patial_scholarship():\n",
    "    clear()\n",
    "    print(\"This scholarship is not available\")\n",
    "    input(\"Press enter for menu\")\n",
    "    menu()\n",
    "\n",
    "def exit():\n",
    "    clear()\n",
    "    input(\"Thanks for your Application!!\")\n",
    "\n",
    "def menu():\n",
    "    clear()\n",
    "    print(\"SCHOLARSHIP PROGRAMME\")\n",
    "    print(\"1. Full Scholarship\")\n",
    "    print(\"2. Patial Scholarship\")\n",
    "    print(\"3. Exit\")\n",
    "    choice=input(\"Enter the choice: \")\n",
    "    if choice == \"1\":\n",
    "        full_scholarship()\n",
    "    elif choice==\"2\": \n",
    "        patial_scholarship()\n",
    "    elif choice==\"3\":\n",
    "        exit()\n",
    "    else:\n",
    "        clear()\n",
    "        input(\"Wrong input. Press Enter for menu\")\n",
    "        menu()\n",
    "menu()"
   ]
  },
  {
   "cell_type": "code",
   "execution_count": null,
   "metadata": {},
   "outputs": [],
   "source": []
  },
  {
   "cell_type": "code",
   "execution_count": null,
   "metadata": {},
   "outputs": [],
   "source": []
  }
 ],
 "metadata": {
  "kernelspec": {
   "display_name": "Python 3",
   "language": "python",
   "name": "python3"
  },
  "language_info": {
   "codemirror_mode": {
    "name": "ipython",
    "version": 3
   },
   "file_extension": ".py",
   "mimetype": "text/x-python",
   "name": "python",
   "nbconvert_exporter": "python",
   "pygments_lexer": "ipython3",
   "version": "3.7.6"
  }
 },
 "nbformat": 4,
 "nbformat_minor": 4
}
